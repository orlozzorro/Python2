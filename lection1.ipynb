{
 "cells": [
  {
   "cell_type": "code",
   "execution_count": null,
   "id": "1536e613-c70f-414f-8e11-ef2c612e6029",
   "metadata": {},
   "outputs": [],
   "source": [
    "Ctrl-A : select all.\n",
    "Ctrl Home : go to cell start.\n",
    "Ctrl End : go to cell end.\n",
    "Ctrl Left : go one word left.\n",
    "Ctrl Right : go one word right.\n",
    "Tab : code completion or indent\n",
    "Shift-Tab : tooltip"
   ]
  },
  {
   "cell_type": "code",
   "execution_count": 1,
   "id": "d710e629-b879-4928-8146-3d51f626f763",
   "metadata": {},
   "outputs": [
    {
     "data": {
      "text/plain": [
       "8"
      ]
     },
     "execution_count": 1,
     "metadata": {},
     "output_type": "execute_result"
    }
   ],
   "source": [
    "pow(2, 3)"
   ]
  },
  {
   "cell_type": "code",
   "execution_count": null,
   "id": "ec99b4c3-c814-4880-a233-3847f04c4b5e",
   "metadata": {},
   "outputs": [],
   "source": [
    "Ctrl-Z : undo\n",
    "Ctrl-/ : comment\n",
    "Ctrl-D : delete whole line"
   ]
  },
  {
   "cell_type": "code",
   "execution_count": 2,
   "id": "d09de9e6-af15-4edc-956a-c34456f5d3c5",
   "metadata": {},
   "outputs": [
    {
     "data": {
      "text/plain": [
       "\u001b[1;31mSignature:\u001b[0m \u001b[0mpow\u001b[0m\u001b[1;33m(\u001b[0m\u001b[0mbase\u001b[0m\u001b[1;33m,\u001b[0m \u001b[0mexp\u001b[0m\u001b[1;33m,\u001b[0m \u001b[0mmod\u001b[0m\u001b[1;33m=\u001b[0m\u001b[1;32mNone\u001b[0m\u001b[1;33m)\u001b[0m\u001b[1;33m\u001b[0m\u001b[1;33m\u001b[0m\u001b[0m\n",
       "\u001b[1;31mDocstring:\u001b[0m\n",
       "Equivalent to base**exp with 2 arguments or base**exp % mod with 3 arguments\n",
       "\n",
       "Some types, such as ints, are able to use a more efficient algorithm when\n",
       "invoked using the three argument form.\n",
       "\u001b[1;31mType:\u001b[0m      builtin_function_or_method"
      ]
     },
     "metadata": {},
     "output_type": "display_data"
    }
   ],
   "source": [
    "?pow"
   ]
  },
  {
   "cell_type": "markdown",
   "id": "443ab72e-ccd9-4cc6-a87c-ac8a0c554f1c",
   "metadata": {},
   "source": [
    "Command Mode (press Esc to enable)\n",
    "Up : select cell above\n",
    "Down : select cell below\n",
    "Shift-Enter : run cell, select below\n",
    "Ctrl-Enter : run selected cells\n",
    "Alt-Enter : run cell and insert below\n",
    "A : insert cell above\n",
    "B : insert cell below\n",
    "X : cut selected cells\n",
    "C : copy selected cells\n",
    "V : paste cells belowд\n",
    "F : find and replace"
   ]
  },
  {
   "cell_type": "markdown",
   "id": "610e3dc1-9fa4-4dcb-adc7-1d859b37f256",
   "metadata": {},
   "source": [
    "Command Mode (press Esc to enable)\n",
    "Up : select cell above\n",
    "Down : select cell below\n",
    "Shift-Enter : run cell, select below\n",
    "Ctrl-Enter : run selected cells\n",
    "Alt-Enter : run cell and insert below\n",
    "A : insert cell above\n",
    "B : insert cell below\n",
    "X : cut selected cells\n",
    "C : copy selected cells\n",
    "V : paste cells below\n",
    "F : find and replace"
   ]
  },
  {
   "cell_type": "markdown",
   "id": "e954894c-bd47-4039-9fea-e131b5d21e32",
   "metadata": {},
   "source": [
    "Command Mode (press Esc to enable)\n",
    "Up : select cell above\n",
    "Down : select cell below\n",
    "Shift-Enter : run cell, select below\n",
    "Ctrl-Enter : run selected cells\n",
    "Alt-Enter : run cell and insert below\n",
    "A : insert cell above\n",
    "B : insert cell below\n",
    "X : cut selected cells\n",
    "C : copy selected cells\n",
    "V : paste cells below\n",
    "F : find and replace"
   ]
  },
  {
   "cell_type": "markdown",
   "id": "421942b6-4046-44fd-a0f2-92aa4e395ad3",
   "metadata": {},
   "source": [
    "# hЗаголовок"
   ]
  },
  {
   "cell_type": "code",
   "execution_count": 3,
   "id": "db45247e-b33e-4b27-bd28-5b43acff9c74",
   "metadata": {},
   "outputs": [
    {
     "name": "stdout",
     "output_type": "stream",
     "text": [
      "1\n"
     ]
    }
   ],
   "source": [
    "print(1)"
   ]
  },
  {
   "cell_type": "code",
   "execution_count": 4,
   "id": "7ab1fc65-e4c1-4166-88ad-c222ba6869df",
   "metadata": {},
   "outputs": [
    {
     "data": {
      "text/plain": [
       "{'name': 'John', 'surname': 'Doe', 'age': 32}"
      ]
     },
     "execution_count": 4,
     "metadata": {},
     "output_type": "execute_result"
    }
   ],
   "source": [
    "client_data = {\n",
    "    'name': 'John',\n",
    "    'surname': 'Doe',\n",
    "    'age': 32\n",
    "}\n",
    "\n",
    "client_data\n"
   ]
  },
  {
   "cell_type": "code",
   "execution_count": 5,
   "id": "b69bdf27-ff46-4415-8d5d-ce27df34a641",
   "metadata": {},
   "outputs": [
    {
     "data": {
      "text/plain": [
       "'John'"
      ]
     },
     "execution_count": 5,
     "metadata": {},
     "output_type": "execute_result"
    }
   ],
   "source": [
    "client_data['name']"
   ]
  },
  {
   "cell_type": "code",
   "execution_count": 8,
   "id": "f19c504a-1f18-42a3-bbc8-ec01dec6382e",
   "metadata": {},
   "outputs": [
    {
     "name": "stdout",
     "output_type": "stream",
     "text": [
      "[100, 125, -90, 345, 655, -1, 0, 200]\n"
     ]
    }
   ],
   "source": [
    "adv = [100, 125, -90, 345, 655, -1, 0, 200]\n",
    "print(adv)"
   ]
  },
  {
   "cell_type": "code",
   "execution_count": 14,
   "id": "018156f4-27c0-4802-9a05-bfc9d98a425b",
   "metadata": {},
   "outputs": [
    {
     "name": "stdout",
     "output_type": "stream",
     "text": [
      "1425\n"
     ]
    }
   ],
   "source": [
    "result = sum(i for i in adv if i > 0 )\n",
    "print(result)"
   ]
  },
  {
   "cell_type": "code",
   "execution_count": 30,
   "id": "80c51e0c-7a11-4860-be99-37351b57ad08",
   "metadata": {},
   "outputs": [
    {
     "name": "stdout",
     "output_type": "stream",
     "text": [
      "23\n"
     ]
    }
   ],
   "source": [
    "\n",
    "def total_fruits(**kwargs):\n",
    "    return sum(kwargs.values())\n",
    "    \n",
    "print(total_fruits(apples=10, bananas=5, oranges=8))"
   ]
  },
  {
   "cell_type": "code",
   "execution_count": 38,
   "id": "cfa2520e-24b4-4cbf-84a2-aa76d4d1be6f",
   "metadata": {},
   "outputs": [
    {
     "name": "stdout",
     "output_type": "stream",
     "text": [
      "{'2021-10-01': 100, '2021-11-05': 200, '2021-12-10': 300}\n"
     ]
    }
   ],
   "source": [
    "dates = ['2021-10-01', '2021-11-05', '2021-12-10']\n",
    "income = [100, 200, 300]\n",
    "\n",
    "def make_dict(dates, income):\n",
    "    # mydict= {}\n",
    "    # for i in range(len(dates)):\n",
    "    #     mydict.update({dates[i] : income[i]})\n",
    "    # return mydict\n",
    "    return {dates[i] : income[i] for i in range(len(dates))}\n",
    "    \n",
    "print(make_dict(dates, income))"
   ]
  },
  {
   "cell_type": "code",
   "execution_count": null,
   "id": "21e271ec-85c3-457a-ac1d-218699fa7e28",
   "metadata": {},
   "outputs": [],
   "source": []
  }
 ],
 "metadata": {
  "kernelspec": {
   "display_name": "Python 3 (ipykernel)",
   "language": "python",
   "name": "python3"
  },
  "language_info": {
   "codemirror_mode": {
    "name": "ipython",
    "version": 3
   },
   "file_extension": ".py",
   "mimetype": "text/x-python",
   "name": "python",
   "nbconvert_exporter": "python",
   "pygments_lexer": "ipython3",
   "version": "3.12.5"
  }
 },
 "nbformat": 4,
 "nbformat_minor": 5
}
